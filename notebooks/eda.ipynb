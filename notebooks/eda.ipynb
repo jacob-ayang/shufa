{
 "cells": [
  {
   "cell_type": "markdown",
   "metadata": {},
   "source": [
    "# 硬笔书法数据集探索性数据分析\n\n本notebook用于探索和分析硬笔书法数据集的特征。"
   ]
  },
  {
   "cell_type": "code",
   "execution_count": null,
   "metadata": {},
   "outputs": [],
   "source": [
    "import sys\nimport os\nimport numpy as np\nimport matplotlib.pyplot as plt\nimport cv2\n\n# 添加src目录到Python路径\nsys.path.append('../src')\n\n# 导入自定义模块\nfrom data.dataset import ChineseCharacterDataset\nfrom config import *\n\nprint('导入库完成')"
   ]
  },
  {
   "cell_type": "code",
   "execution_count": null,
   "metadata": {},
   "outputs": [],
   "source": [
    "# 加载数据集\ndataset = ChineseCharacterDataset(root_dir=HWDB1_1_TRAIN)\nprint(f'数据集大小: {len(dataset)}')"
   ]
  },
  {
   "cell_type": "code",
   "execution_count": null,
   "metadata": {},
   "outputs": [],
   "source": [
    "# 显示一些样本图像\nfig, axes = plt.subplots(2, 5, figsize=(15, 6))\naxes = axes.flatten()\n\nfor i in range(10):\n    # 获取样本\n    image, label = dataset[i]\n    \n    # 显示图像\n    axes[i].imshow(image, cmap='gray')\n    axes[i].set_title(f'Label: {label}')\n    axes[i].axis('off')\n\nplt.tight_layout()\nplt.show()"
   ]
  },
  {
   "cell_type": "code",
   "execution_count": null,
   "metadata": {},
   "outputs": [],
   "source": [
    "# 分析标签分布\nlabels = [dataset[i][1] for i in range(len(dataset))]\nunique_labels, counts = np.unique(labels, return_counts=True)\n\nprint(f'唯一标签数: {len(unique_labels)}')\nprint(f'标签分布 - 最小: {np.min(counts)}, 最大: {np.max(counts)}, 平均: {np.mean(counts):.2f}')\n\n# 绘制标签分布直方图\nplt.figure(figsize=(12, 6))\nplt.hist(counts, bins=50)\nplt.xlabel('每个类别的样本数')\nplt.ylabel('类别数')\nplt.title('标签分布')\nplt.show()"
   ]
  },
  {
   "cell_type": "code",
   "execution_count": null,
   "metadata": {},
   "outputs": [],
   "source": [
    "# 分析图像尺寸\nimage_sizes = []\nfor i in range(min(1000, len(dataset))):  # 仅分析前1000个样本以节省时间\n    sample = dataset.samples[i]\n    image_sizes.append((sample['width'], sample['height']))\n\nwidths, heights = zip(*image_sizes)\n\nprint(f'图像尺寸分析:')\nprint(f'宽度 - 最小: {np.min(widths)}, 最大: {np.max(widths)}, 平均: {np.mean(widths):.2f}')\nprint(f'高度 - 最小: {np.min(heights)}, 最大: {np.max(heights)}, 平均: {np.mean(heights):.2f}')\n\n# 绘制图像尺寸分布\nfig, (ax1, ax2) = plt.subplots(1, 2, figsize=(12, 5))\n\nax1.hist(widths, bins=30)\nax1.set_xlabel('宽度')\nax1.set_ylabel('频率')\nax1.set_title('图像宽度分布')\n\nax2.hist(heights, bins=30)\nax2.set_xlabel('高度')\nax2.set_ylabel('频率')\nax2.set_title('图像高度分布')\n\nplt.tight_layout()\nplt.show()"
   ]
  }
 ],
 "metadata": {
  "kernelspec": {
   "display_name": "Python 3",
   "language": "python",
   "name": "python3"
  },
  "language_info": {
   "codemirror_mode": {
    "name": "ipython",
    "version": 3
   },
   "file_extension": ".py",
   "mimetype": "text/x-python",
   "name": "python",
   "nbconvert_exporter": "python",
   "pygments_lexer": "ipython3",
   "version": "3.8.5"
  }
 },
 "nbformat": 4,
 "nbformat_minor": 4
}